{
  "nbformat": 4,
  "nbformat_minor": 0,
  "metadata": {
    "colab": {
      "provenance": [],
      "authorship_tag": "ABX9TyPirVI3bxlDFn2Ncbi3s8+J",
      "include_colab_link": true
    },
    "kernelspec": {
      "name": "python3",
      "display_name": "Python 3"
    },
    "language_info": {
      "name": "python"
    }
  },
  "cells": [
    {
      "cell_type": "markdown",
      "metadata": {
        "id": "view-in-github",
        "colab_type": "text"
      },
      "source": [
        "<a href=\"https://colab.research.google.com/github/szh141/UVA-AMF/blob/main/axis_minor_length.ipynb\" target=\"_parent\"><img src=\"https://colab.research.google.com/assets/colab-badge.svg\" alt=\"Open In Colab\"/></a>"
      ]
    },
    {
      "cell_type": "code",
      "execution_count": 26,
      "metadata": {
        "colab": {
          "base_uri": "https://localhost:8080/",
          "height": 406
        },
        "id": "zuPB7KfntvHo",
        "outputId": "a0f11230-3232-4f7d-d3c4-aadf144be002"
      },
      "outputs": [
        {
          "output_type": "display_data",
          "data": {
            "text/plain": [
              "<Figure size 640x480 with 1 Axes>"
            ],
            "image/png": "[encoded data removed]"
          },
          "metadata": {}
        }
      ],
      "source": [
        "import numpy as np\n",
        "import matplotlib.pyplot as plt\n",
        "from skimage.draw import ellipse\n",
        "\n",
        "# Define ellipse parameters\n",
        "image1_shape = (100, 100)  # Shape of the image\n",
        "center = (50, 50)          # Center of the ellipse\n",
        "r_row = 30                 # Semi-axis length along rows\n",
        "r_col = 20                 # Semi-axis length along columns\n",
        "rotation_angle = np.deg2rad(60)  # Rotation angle in radians\n",
        "\n",
        "# Create a blank image\n",
        "image1 = np.zeros(image1_shape, dtype=np.uint8)\n",
        "\n",
        "# Draw the rotated ellipse on the image\n",
        "rr, cc = ellipse(center[0], center[1], r_row, r_col, rotation=rotation_angle)\n",
        "image1[rr, cc] = 255  # Set the pixel values to 255 (white)\n",
        "\n",
        "# Display the image\n",
        "plt.imshow(image1, cmap='gray')\n",
        "plt.axis('off')\n",
        "plt.show()"
      ]
    },
    {
      "cell_type": "code",
      "source": [
        "import numpy as np\n",
        "import matplotlib.pyplot as plt\n",
        "from skimage.draw import polygon\n",
        "\n",
        "# Function to rotate a point (px, py) around another point (cx, cy) by angle theta\n",
        "def rotate_point(px, py, cx, cy, theta):\n",
        "    cos_theta = np.cos(theta)\n",
        "    sin_theta = np.sin(theta)\n",
        "    rx = cos_theta * (px - cx) - sin_theta * (py - cy) + cx\n",
        "    ry = sin_theta * (px - cx) + cos_theta * (py - cy) + cy\n",
        "    return rx, ry\n",
        "\n",
        "# Create a sample image\n",
        "image = np.zeros((100, 100), dtype=np.uint8)\n",
        "\n",
        "# Define rectangle parameters\n",
        "cx, cy = 50, 50   # Center of the rectangle\n",
        "width, height = 60, 40  # Width and height of the rectangle\n",
        "rotation_angle = np.deg2rad(30)  # Rotation angle in radians\n",
        "\n",
        "# Calculate the corners of the rectangle\n",
        "corners = np.array([[-width/2, -height/2],\n",
        "                    [width/2, -height/2],\n",
        "                    [width/2, height/2],\n",
        "                    [-width/2, height/2]])\n",
        "\n",
        "# Rotate the corners\n",
        "rotated_corners = np.array([rotate_point(x, y, 0, 0, rotation_angle) for x, y in corners])\n",
        "\n",
        "# Translate the rotated corners to the center of the rectangle\n",
        "rotated_corners[:, 0] += cx\n",
        "rotated_corners[:, 1] += cy\n",
        "\n",
        "# Draw the rotated rectangle on the image\n",
        "rr, cc = polygon(rotated_corners[:, 1], rotated_corners[:, 0], image.shape)\n",
        "image[rr, cc] = 128\n",
        "\n",
        "# Display the image with the rotated rectangle\n",
        "plt.imshow(image)\n",
        "plt.axis('off')\n",
        "plt.imshow(image1,alpha=0.5)\n",
        "plt.show()"
      ],
      "metadata": {
        "colab": {
          "base_uri": "https://localhost:8080/",
          "height": 406
        },
        "id": "dT73dhgWwNRq",
        "outputId": "171bcd10-5236-419f-8e10-0a7e08a287cb"
      },
      "execution_count": 27,
      "outputs": [
        {
          "output_type": "display_data",
          "data": {
            "text/plain": [
              "<Figure size 640x480 with 1 Axes>"
            ],
            "image/png": "[encoded data removed]"
          },
          "metadata": {}
        }
      ]
    },
    {
      "cell_type": "code",
      "source": [
        "from skimage import filters,measure\n",
        "test = image > 1\n",
        "test = measure.label(test)\n",
        "props = measure.regionprops_table(test,properties=(\n",
        "    'area','axis_minor_length','axis_major_length'\n",
        "))"
      ],
      "metadata": {
        "id": "OES9tlyxvT0T"
      },
      "execution_count": 28,
      "outputs": []
    },
    {
      "cell_type": "code",
      "source": [
        "print(props['axis_minor_length'])\n",
        "print(props['axis_major_length'])"
      ],
      "metadata": {
        "colab": {
          "base_uri": "https://localhost:8080/"
        },
        "id": "YKngYkVcvt_Y",
        "outputId": "739e7eca-dbdc-4a1e-e6ea-9385a8fff014"
      },
      "execution_count": 29,
      "outputs": [
        {
          "output_type": "stream",
          "name": "stdout",
          "text": [
            "[46.21042263]\n",
            "[69.29973113]\n"
          ]
        }
      ]
    }
  ]
}