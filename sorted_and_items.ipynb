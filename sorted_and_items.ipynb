{
  "nbformat": 4,
  "nbformat_minor": 0,
  "metadata": {
    "colab": {
      "provenance": [],
      "authorship_tag": "ABX9TyMFQBOqZjogLnHKSs/MdyVz",
      "include_colab_link": true
    },
    "kernelspec": {
      "name": "python3",
      "display_name": "Python 3"
    },
    "language_info": {
      "name": "python"
    }
  },
  "cells": [
    {
      "cell_type": "markdown",
      "metadata": {
        "id": "view-in-github",
        "colab_type": "text"
      },
      "source": [
        "<a href=\"https://colab.research.google.com/github/szh141/UVA-AMF/blob/main/sorted_and_items.ipynb\" target=\"_parent\"><img src=\"https://colab.research.google.com/assets/colab-badge.svg\" alt=\"Open In Colab\"/></a>"
      ]
    },
    {
      "cell_type": "markdown",
      "source": [
        "https://stackoverflow.com/questions/32238196/how-does-the-key-argument-in-pythons-sorted-function-work\n",
        "\n",
        "https://thepythoncodingbook.com/2021/08/30/2d-fourier-transform-in-python-and-fourier-synthesis-of-images/\n"
      ],
      "metadata": {
        "id": "hnURtuWJeXFm"
      }
    },
    {
      "cell_type": "code",
      "execution_count": 2,
      "metadata": {
        "colab": {
          "base_uri": "https://localhost:8080/"
        },
        "id": "hukAp9QZaFUZ",
        "outputId": "96eae453-b6b8-4eb5-d0ac-c5ae6793b424"
      },
      "outputs": [
        {
          "output_type": "stream",
          "name": "stdout",
          "text": [
            "[('Able', 10), ('Dog', 15), ('Charlie', 20), ('Baker', 20)]\n"
          ]
        }
      ],
      "source": [
        "votes = {'Charlie': 20, 'Able': 10, 'Baker': 20, 'Dog': 15}\n",
        "votes.items()\n",
        "print(sorted(votes.items(), key=lambda x: x[1]))"
      ]
    },
    {
      "cell_type": "markdown",
      "source": [
        "If we apply .items() on the votes dictionary above we get:\n",
        "a list of tuples, each tuple having two items indexed 0 and 1"
      ],
      "metadata": {
        "id": "U1sga8sNew3I"
      }
    },
    {
      "cell_type": "markdown",
      "source": [
        "For each tuple, the first index [0] are the strings ('Charlie','Able','Baker','Dog') and the second index [1] the integers (20,10,20,15).\n",
        "\n",
        "print(sorted(votes.items(), key = lambda x: x[1])) instructs python to sort the items(tuples) in votes using the second index [1] of each tuple, the integers, as the basis of the sorting.\n",
        "\n",
        "Python compares each integer from each tuple and returns a list that has ranked each tuple in ascending order (this can be reversed with the reverse=True argument) using each tuple's integer as the key to determine the tuple's rank,\n",
        "\n",
        "Where there is a tie in the key, the items are ranked in the order they are originally in the dictionary. (so ('Charlie', 20) is before ('Baker', 20) because there is a 20==20 tie on the key but ('Charlie', 20) comes before ('Baker', 20) in the original votes dictionary)."
      ],
      "metadata": {
        "id": "2dhWtXo0fC81"
      }
    },
    {
      "cell_type": "code",
      "source": [
        "# Get all coordinate pairs in the left half of the array,\n",
        "# including the column at the centre of the array (which\n",
        "# includes the centre pixel)\n",
        "coords_left_half = (\n",
        "    (x, y) for x in range(array_size) for y in range(centre+1)\n",
        ")\n",
        "# Sort points based on distance from centre\n",
        "coords_left_half = sorted(\n",
        "    coords_left_half,\n",
        "    key=lambda x: calculate_distance_from_centre(x, centre)\n",
        ")"
      ],
      "metadata": {
        "id": "A3vfuecYfJ1n"
      },
      "execution_count": null,
      "outputs": []
    },
    {
      "cell_type": "markdown",
      "source": [
        "Therefore, in the above case, key=lambda x\n",
        "\n",
        "this x is the input to the calculate_distance_from_centre, it's the coordinate (x,y)"
      ],
      "metadata": {
        "id": "hX-h0DQFfLGX"
      }
    }
  ]
}