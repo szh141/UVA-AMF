{
  "nbformat": 4,
  "nbformat_minor": 0,
  "metadata": {
    "colab": {
      "provenance": [],
      "authorship_tag": "ABX9TyMNE89yhkF+Mqv16+YhkURe",
      "include_colab_link": true
    },
    "kernelspec": {
      "name": "python3",
      "display_name": "Python 3"
    },
    "language_info": {
      "name": "python"
    }
  },
  "cells": [
    {
      "cell_type": "markdown",
      "metadata": {
        "id": "view-in-github",
        "colab_type": "text"
      },
      "source": [
        "<a href=\"https://colab.research.google.com/github/szh141/UVA-AMF/blob/main/RegEx.ipynb\" target=\"_parent\"><img src=\"https://colab.research.google.com/assets/colab-badge.svg\" alt=\"Open In Colab\"/></a>"
      ]
    },
    {
      "cell_type": "markdown",
      "source": [
        "https://sarangsurve.medium.com/python-basics-what-is-super-4c456d5210fe"
      ],
      "metadata": {
        "id": "gwJuIRVfWqNC"
      }
    },
    {
      "cell_type": "markdown",
      "source": [
        "https://medium.com/@jamestjw/parsing-file-names-using-regular-expressions-3e85d64deb69"
      ],
      "metadata": {
        "id": "9q9hzLV5mf5r"
      }
    },
    {
      "cell_type": "code",
      "execution_count": 13,
      "metadata": {
        "colab": {
          "base_uri": "https://localhost:8080/"
        },
        "id": "zdrSkaJSWmMT",
        "outputId": "08634a67-8e46-4aa7-9cf2-5a2eff9a1906"
      },
      "outputs": [
        {
          "output_type": "stream",
          "name": "stdout",
          "text": [
            "american_bulldog_146.jpg\n",
            "american_bulldog\n"
          ]
        }
      ],
      "source": [
        "import re\n",
        "string = 'data/oxford-iiit-pet/images/american_bulldog_146.jpg'\n",
        "pat = r'([^/]+)_\\d+.jpg$'\n",
        "pat = re.compile(pat)\n",
        "print(pat.search(string).group(0))\n",
        "print(pat.search(string).group(1))"
      ]
    },
    {
      "cell_type": "markdown",
      "source": [
        "https://cs.lmu.edu/~ray/notes/regex/"
      ],
      "metadata": {
        "id": "nCSKbIsUnIMA"
      }
    }
  ]
}