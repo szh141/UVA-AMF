{
  "nbformat": 4,
  "nbformat_minor": 0,
  "metadata": {
    "colab": {
      "provenance": [],
      "authorship_tag": "ABX9TyP+lULkGBH7JAThM613kZnS",
      "include_colab_link": true
    },
    "kernelspec": {
      "name": "python3",
      "display_name": "Python 3"
    },
    "language_info": {
      "name": "python"
    }
  },
  "cells": [
    {
      "cell_type": "markdown",
      "metadata": {
        "id": "view-in-github",
        "colab_type": "text"
      },
      "source": [
        "<a href=\"https://colab.research.google.com/github/szh141/UVA-AMF/blob/main/regionprops_bbox_axis_length.ipynb\" target=\"_parent\"><img src=\"https://colab.research.google.com/assets/colab-badge.svg\" alt=\"Open In Colab\"/></a>"
      ]
    },
    {
      "cell_type": "code",
      "execution_count": 13,
      "metadata": {
        "colab": {
          "base_uri": "https://localhost:8080/"
        },
        "id": "U4MRxcIa5shG",
        "outputId": "116a805c-8b78-4866-e6c0-ec097e6d0127"
      },
      "outputs": [
        {
          "output_type": "stream",
          "name": "stdout",
          "text": [
            "[5]\n",
            "[10]\n",
            "[15]\n",
            "[8]\n",
            "[13]\n",
            "[20]\n",
            "[6.32455532]   [3.65148372]\n",
            "[6.55743852]\n"
          ]
        }
      ],
      "source": [
        "import numpy as np\n",
        "\n",
        "a = np.zeros((10,15,20))\n",
        "\n",
        "a[5:8,10:13,15:20] = 1\n",
        "\n",
        "from skimage import filters,measure\n",
        "\n",
        "b = measure.label(a)\n",
        "\n",
        "props = measure.regionprops_table(b,properties=(\n",
        "    'area','axis_minor_length','axis_major_length','bbox'\n",
        "))\n",
        "\n",
        "#Bounding box (min_row, min_col, max_row, max_col).\n",
        "\n",
        "print(props['bbox-0'])\n",
        "print(props['bbox-1'])\n",
        "print(props['bbox-2'])\n",
        "print(props['bbox-3'])\n",
        "print(props['bbox-4'])\n",
        "print(props['bbox-5'])\n",
        "\n",
        "print(props['axis_major_length'],' ',props['axis_minor_length'])\n",
        "\n",
        "cal = np.sqrt((props['bbox-0']-props['bbox-3'])**2 + (props['bbox-1']-props['bbox-4'])**2 + (props['bbox-2']-props['bbox-5'])**2)\n",
        "print(cal)"
      ]
    }
  ]
}