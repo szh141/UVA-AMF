{
  "nbformat": 4,
  "nbformat_minor": 0,
  "metadata": {
    "colab": {
      "provenance": [],
      "mount_file_id": "1csQxTuNU3eCiNCfOqPoq-ryJax6QCrs8",
      "authorship_tag": "ABX9TyOKtYkjHi7REtJztQH7heCi",
      "include_colab_link": true
    },
    "kernelspec": {
      "name": "python3",
      "display_name": "Python 3"
    },
    "language_info": {
      "name": "python"
    }
  },
  "cells": [
    {
      "cell_type": "markdown",
      "metadata": {
        "id": "view-in-github",
        "colab_type": "text"
      },
      "source": [
        "<a href=\"https://colab.research.google.com/github/szh141/UVA-AMF/blob/main/volume_conversion_between_Imaris_and_skimage.ipynb\" target=\"_parent\"><img src=\"https://colab.research.google.com/assets/colab-badge.svg\" alt=\"Open In Colab\"/></a>"
      ]
    },
    {
      "cell_type": "markdown",
      "source": [
        "test.ims\n",
        "\n",
        "is one nuclear segmentation\n",
        "mask all and set intensity =1\n",
        "volume 144.243 um3\n",
        "\n",
        "intensity sum 4507, this is equal to anisotropic total voxel\n",
        "\n",
        "xy. 0.18045.  z. 1 um"
      ],
      "metadata": {
        "id": "M_dLXcMOQYKB"
      }
    },
    {
      "cell_type": "code",
      "execution_count": 12,
      "metadata": {
        "colab": {
          "base_uri": "https://localhost:8080/"
        },
        "id": "f4WFmHsEPKB_",
        "outputId": "06f8c20a-5ebd-452a-e94a-a12b5634819e"
      },
      "outputs": [
        {
          "output_type": "stream",
          "name": "stdout",
          "text": [
            "Opening readonly file: /content/drive/MyDrive/Colab images/test.ims \n",
            "\n",
            "ims file shape is (1, 1, 33, 512, 512)\n",
            "Closing file: /content/drive/MyDrive/Colab images/test.ims \n",
            "\n",
            "3D volume shape is (33, 512, 512) in zyx\n",
            "volume in voxel is \n",
            "4507  the same as voxel in ims file\n",
            "\n",
            "after converting to isotropic voxel\n",
            "the volume in um3 is \n",
            "159  similar to ims measured volume in um3\n"
          ]
        }
      ],
      "source": [
        "#!pip install imaris-ims-file-reader\n",
        "\n",
        "from imaris_ims_file_reader.ims import ims\n",
        "\n",
        "a = ims('/content/drive/MyDrive/Colab images/test.ims')\n",
        "print(f'ims file shape is {a.shape}')\n",
        "b = a[:,:]\n",
        "print(f'3D volume shape is {b.shape} in zyx')\n",
        "\n",
        "from skimage import filters,measure\n",
        "val = filters.threshold_otsu(b)\n",
        "seg = b>val\n",
        "seg = measure.label(seg)\n",
        "props = measure.regionprops(seg)\n",
        "print('volume in voxel is ')\n",
        "print(props[0].area,' the same as voxel in ims file\\n')\n",
        "\n",
        "\n",
        "from skimage.transform import resize\n",
        "f = 1/0.18045\n",
        "#downsize xy\n",
        "c= resize(b,(b.shape[0],b.shape[1]/f,b.shape[2]/f),\n",
        "                       anti_aliasing=False)\n",
        "\n",
        "val2 = filters.threshold_otsu(c)\n",
        "seg2 = c>val2\n",
        "seg2 = measure.label(seg2)\n",
        "props2 = measure.regionprops(seg2)\n",
        "\n",
        "print('after converting to isotropic voxel')\n",
        "print('the volume in um3 is ')\n",
        "print(props2[0].area,' similar to ims measured volume in um3')\n"
      ]
    }
  ]
}