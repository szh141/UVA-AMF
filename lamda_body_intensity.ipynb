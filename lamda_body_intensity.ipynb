{
  "nbformat": 4,
  "nbformat_minor": 0,
  "metadata": {
    "colab": {
      "provenance": [],
      "gpuType": "T4",
      "authorship_tag": "ABX9TyOtGSxXODVW5Gk1bpl2nNGJ",
      "include_colab_link": true
    },
    "kernelspec": {
      "name": "python3",
      "display_name": "Python 3"
    },
    "language_info": {
      "name": "python"
    },
    "accelerator": "GPU"
  },
  "cells": [
    {
      "cell_type": "markdown",
      "metadata": {
        "id": "view-in-github",
        "colab_type": "text"
      },
      "source": [
        "<a href=\"https://colab.research.google.com/github/szh141/UVA-AMF/blob/main/lamda_body_intensity.ipynb\" target=\"_parent\"><img src=\"https://colab.research.google.com/assets/colab-badge.svg\" alt=\"Open In Colab\"/></a>"
      ]
    },
    {
      "cell_type": "code",
      "execution_count": 1,
      "metadata": {
        "id": "1OIsTHM12vUz"
      },
      "outputs": [],
      "source": [
        "import glob\n",
        "import os\n",
        "extension = '*.jpg'\n",
        "file_list = glob.glob(extension)\n",
        "\n",
        "overlay = []\n",
        "ch0 = []\n",
        "ch1 = []\n",
        "file = []\n",
        "\n",
        "\n",
        "for file_name in file_list:\n",
        "  if 'ch00' in file_name:\n",
        "    ch0.append(file_name)\n",
        "  elif 'ch01' in file_name:\n",
        "      ch1.append(file_name)\n",
        "  elif 'overlay' in file_name:\n",
        "        overlay.append(file_name)\n",
        "\n",
        "overlay.sort()\n",
        "ch0.sort()\n",
        "ch1.sort()\n",
        "\n",
        "for i in overlay:\n",
        "  name = i.split('_')\n",
        "  file.append(name[0])"
      ]
    },
    {
      "cell_type": "code",
      "source": [
        "pip install stardist"
      ],
      "metadata": {
        "colab": {
          "base_uri": "https://localhost:8080/"
        },
        "id": "gP_PS-N7GEAy",
        "outputId": "bbaab14c-a765-44c9-9617-75a6e50cc149"
      },
      "execution_count": 2,
      "outputs": [
        {
          "output_type": "stream",
          "name": "stdout",
          "text": [
            "Collecting stardist\n",
            "  Downloading stardist-0.8.5-cp310-cp310-manylinux_2_17_x86_64.manylinux2014_x86_64.whl (3.0 MB)\n",
            "\u001b[?25l     \u001b[90m━━━━━━━━━━━━━━━━━━━━━━━━━━━━━━━━━━━━━━━━\u001b[0m \u001b[32m0.0/3.0 MB\u001b[0m \u001b[31m?\u001b[0m eta \u001b[36m-:--:--\u001b[0m\r\u001b[2K     \u001b[91m━━━\u001b[0m\u001b[91m╸\u001b[0m\u001b[90m━━━━━━━━━━━━━━━━━━━━━━━━━━━━━━━━━━━━\u001b[0m \u001b[32m0.3/3.0 MB\u001b[0m \u001b[31m8.3 MB/s\u001b[0m eta \u001b[36m0:00:01\u001b[0m\r\u001b[2K     \u001b[91m━━━━━━━━━━━━━━━━━━━━━━━━━━━━━━━━━━━━━━━\u001b[0m\u001b[91m╸\u001b[0m \u001b[32m3.0/3.0 MB\u001b[0m \u001b[31m51.2 MB/s\u001b[0m eta \u001b[36m0:00:01\u001b[0m\r\u001b[2K     \u001b[90m━━━━━━━━━━━━━━━━━━━━━━━━━━━━━━━━━━━━━━━━\u001b[0m \u001b[32m3.0/3.0 MB\u001b[0m \u001b[31m38.0 MB/s\u001b[0m eta \u001b[36m0:00:00\u001b[0m\n",
            "\u001b[?25hCollecting csbdeep>=0.7.4 (from stardist)\n",
            "  Downloading csbdeep-0.7.4-py2.py3-none-any.whl (69 kB)\n",
            "\u001b[?25l     \u001b[90m━━━━━━━━━━━━━━━━━━━━━━━━━━━━━━━━━━━━━━━━\u001b[0m \u001b[32m0.0/69.8 kB\u001b[0m \u001b[31m?\u001b[0m eta \u001b[36m-:--:--\u001b[0m\r\u001b[2K     \u001b[90m━━━━━━━━━━━━━━━━━━━━━━━━━━━━━━━━━━━━━━━━\u001b[0m \u001b[32m69.8/69.8 kB\u001b[0m \u001b[31m11.3 MB/s\u001b[0m eta \u001b[36m0:00:00\u001b[0m\n",
            "\u001b[?25hRequirement already satisfied: scikit-image in /usr/local/lib/python3.10/dist-packages (from stardist) (0.19.3)\n",
            "Requirement already satisfied: numba in /usr/local/lib/python3.10/dist-packages (from stardist) (0.58.1)\n",
            "Requirement already satisfied: imageio in /usr/local/lib/python3.10/dist-packages (from stardist) (2.31.6)\n",
            "Requirement already satisfied: numpy in /usr/local/lib/python3.10/dist-packages (from csbdeep>=0.7.4->stardist) (1.25.2)\n",
            "Requirement already satisfied: scipy in /usr/local/lib/python3.10/dist-packages (from csbdeep>=0.7.4->stardist) (1.11.4)\n",
            "Requirement already satisfied: matplotlib in /usr/local/lib/python3.10/dist-packages (from csbdeep>=0.7.4->stardist) (3.7.1)\n",
            "Requirement already satisfied: six in /usr/local/lib/python3.10/dist-packages (from csbdeep>=0.7.4->stardist) (1.16.0)\n",
            "Requirement already satisfied: tifffile in /usr/local/lib/python3.10/dist-packages (from csbdeep>=0.7.4->stardist) (2024.2.12)\n",
            "Requirement already satisfied: tqdm in /usr/local/lib/python3.10/dist-packages (from csbdeep>=0.7.4->stardist) (4.66.2)\n",
            "Requirement already satisfied: packaging in /usr/local/lib/python3.10/dist-packages (from csbdeep>=0.7.4->stardist) (23.2)\n",
            "Requirement already satisfied: pillow<10.1.0,>=8.3.2 in /usr/local/lib/python3.10/dist-packages (from imageio->stardist) (9.4.0)\n",
            "Requirement already satisfied: llvmlite<0.42,>=0.41.0dev0 in /usr/local/lib/python3.10/dist-packages (from numba->stardist) (0.41.1)\n",
            "Requirement already satisfied: networkx>=2.2 in /usr/local/lib/python3.10/dist-packages (from scikit-image->stardist) (3.2.1)\n",
            "Requirement already satisfied: PyWavelets>=1.1.1 in /usr/local/lib/python3.10/dist-packages (from scikit-image->stardist) (1.5.0)\n",
            "Requirement already satisfied: contourpy>=1.0.1 in /usr/local/lib/python3.10/dist-packages (from matplotlib->csbdeep>=0.7.4->stardist) (1.2.0)\n",
            "Requirement already satisfied: cycler>=0.10 in /usr/local/lib/python3.10/dist-packages (from matplotlib->csbdeep>=0.7.4->stardist) (0.12.1)\n",
            "Requirement already satisfied: fonttools>=4.22.0 in /usr/local/lib/python3.10/dist-packages (from matplotlib->csbdeep>=0.7.4->stardist) (4.49.0)\n",
            "Requirement already satisfied: kiwisolver>=1.0.1 in /usr/local/lib/python3.10/dist-packages (from matplotlib->csbdeep>=0.7.4->stardist) (1.4.5)\n",
            "Requirement already satisfied: pyparsing>=2.3.1 in /usr/local/lib/python3.10/dist-packages (from matplotlib->csbdeep>=0.7.4->stardist) (3.1.1)\n",
            "Requirement already satisfied: python-dateutil>=2.7 in /usr/local/lib/python3.10/dist-packages (from matplotlib->csbdeep>=0.7.4->stardist) (2.8.2)\n",
            "Installing collected packages: csbdeep, stardist\n",
            "Successfully installed csbdeep-0.7.4 stardist-0.8.5\n"
          ]
        }
      ]
    },
    {
      "cell_type": "code",
      "source": [
        "from skimage import io, filters, morphology, feature,color\n",
        "from matplotlib import pyplot as plt\n",
        "import numpy as np"
      ],
      "metadata": {
        "id": "ksxOonTsGRoJ"
      },
      "execution_count": 3,
      "outputs": []
    },
    {
      "cell_type": "code",
      "source": [
        "from stardist.models import StarDist2D\n",
        "model = StarDist2D.from_pretrained('2D_versatile_fluo')\n",
        "\n",
        "from stardist.data import test_image_nuclei_2d\n",
        "from stardist.plot import render_label\n",
        "from csbdeep.utils import normalize\n",
        "import matplotlib.pyplot as plt\n",
        "\n",
        "from skimage.measure import regionprops_table\n",
        "from skimage.segmentation import watershed\n",
        "\n",
        "import pandas as pd\n",
        "\n",
        "count = []\n",
        "ave_intensity = []\n",
        "\n",
        "for i in range(len(overlay)):\n",
        "  img_overlay = io.imread(overlay[i])\n",
        "  #plt.imshow(img_overlay)\n",
        "  #plt.show()\n",
        "\n",
        "  #print(img_overlay.shape)\n",
        "  img_gray = color.rgb2gray(img_overlay)\n",
        "  #plt.imshow(img_gray,vmax=0.3)\n",
        "  #plt.show()\n",
        "\n",
        "  nuclear = io.imread(ch0[i])[...,2]\n",
        "  print(nuclear.shape)\n",
        "  #plt.imshow(nuclear,vmax=100)\n",
        "  #plt.show()\n",
        "\n",
        "  img_green = io.imread(ch1[i])[...,1]\n",
        "  #plt.imshow(img_green,vmax=100)\n",
        "\n",
        "  mask = img_gray > 0.02\n",
        "  mask2 = morphology.remove_small_objects(mask, min_size=100)\n",
        "  #plt.imshow(mask)\n",
        "  #plt.show()\n",
        "  #plt.imshow(mask2)\n",
        "\n",
        "\n",
        "\n",
        "  img = nuclear.copy()\n",
        "  img.dtype\n",
        "\n",
        "  labels, _ = model.predict_instances(normalize(img))\n",
        "\n",
        "\n",
        "  cell_seg = watershed(img_gray, labels, mask=mask2)\n",
        "  props = regionprops_table(cell_seg, intensity_image=img_green,\n",
        "                            properties=('label',\n",
        "                                        'intensity_mean',\n",
        "                                        'area',\n",
        "                                                  ))\n",
        "\n",
        "  df = pd.DataFrame(props)\n",
        "  df['total_intensity'] = df['intensity_mean']*df['area']\n",
        "  #df.head()\n",
        "  #df.hist(column='total_intensity',range=[30000,80000])\n",
        "  df_intensity = df[(df['total_intensity']>11000)&(df['area']>1300)]\n",
        "\n",
        "  intensity = f'{file[i]}.csv'\n",
        "  df_intensity.to_csv(intensity, index=False)\n",
        "\n",
        "  ave_intensity.append(df_intensity['total_intensity'].mean())\n",
        "\n",
        "\n",
        "  count.append(df_intensity.shape[0])\n",
        "\n"
      ],
      "metadata": {
        "colab": {
          "base_uri": "https://localhost:8080/"
        },
        "id": "BLJ4H-R3Gczz",
        "outputId": "264daae0-bbf0-4994-9004-d4f5b78b1948"
      },
      "execution_count": 8,
      "outputs": [
        {
          "output_type": "stream",
          "name": "stdout",
          "text": [
            "Found model '2D_versatile_fluo' for 'StarDist2D'.\n",
            "Loading network weights from 'weights_best.h5'.\n",
            "Loading thresholds from 'thresholds.json'.\n",
            "Using default values: prob_thresh=0.479071, nms_thresh=0.3.\n",
            "(1024, 1024)\n",
            "(1024, 1024)\n",
            "(1024, 1024)\n",
            "(1024, 1024)\n",
            "(1024, 1024)\n"
          ]
        }
      ]
    },
    {
      "cell_type": "code",
      "source": [
        "df_summary = pd.DataFrame({'file_name': file, 'bright_cell_count': count,'average_intensity':ave_intensity})\n",
        "\n",
        "df_summary.to_csv('summary.csv',index=False)"
      ],
      "metadata": {
        "id": "X8noSOnNNf3R"
      },
      "execution_count": 9,
      "outputs": []
    }
  ]
}